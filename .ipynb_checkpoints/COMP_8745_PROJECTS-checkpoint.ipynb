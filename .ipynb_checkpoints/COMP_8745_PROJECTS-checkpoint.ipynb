{
 "cells": [
  {
   "cell_type": "code",
   "execution_count": 42,
   "metadata": {},
   "outputs": [
    {
     "data": {
      "text/html": [
       "<div>\n",
       "<style scoped>\n",
       "    .dataframe tbody tr th:only-of-type {\n",
       "        vertical-align: middle;\n",
       "    }\n",
       "\n",
       "    .dataframe tbody tr th {\n",
       "        vertical-align: top;\n",
       "    }\n",
       "\n",
       "    .dataframe thead th {\n",
       "        text-align: right;\n",
       "    }\n",
       "</style>\n",
       "<table border=\"1\" class=\"dataframe\">\n",
       "  <thead>\n",
       "    <tr style=\"text-align: right;\">\n",
       "      <th></th>\n",
       "      <th>MovieID</th>\n",
       "      <th>YearofRelease</th>\n",
       "      <th>Title</th>\n",
       "    </tr>\n",
       "  </thead>\n",
       "  <tbody>\n",
       "    <tr>\n",
       "      <th>0</th>\n",
       "      <td>1</td>\n",
       "      <td>2003.0</td>\n",
       "      <td>Dinosaur Planet</td>\n",
       "    </tr>\n",
       "    <tr>\n",
       "      <th>1</th>\n",
       "      <td>2</td>\n",
       "      <td>2004.0</td>\n",
       "      <td>Isle of Man TT 2004 Review</td>\n",
       "    </tr>\n",
       "    <tr>\n",
       "      <th>2</th>\n",
       "      <td>3</td>\n",
       "      <td>1997.0</td>\n",
       "      <td>Character</td>\n",
       "    </tr>\n",
       "    <tr>\n",
       "      <th>3</th>\n",
       "      <td>4</td>\n",
       "      <td>1994.0</td>\n",
       "      <td>Paula Abdul's Get Up &amp; Dance</td>\n",
       "    </tr>\n",
       "    <tr>\n",
       "      <th>4</th>\n",
       "      <td>5</td>\n",
       "      <td>2004.0</td>\n",
       "      <td>The Rise and Fall of ECW</td>\n",
       "    </tr>\n",
       "  </tbody>\n",
       "</table>\n",
       "</div>"
      ],
      "text/plain": [
       "   MovieID  YearofRelease                         Title\n",
       "0        1         2003.0               Dinosaur Planet\n",
       "1        2         2004.0    Isle of Man TT 2004 Review\n",
       "2        3         1997.0                     Character\n",
       "3        4         1994.0  Paula Abdul's Get Up & Dance\n",
       "4        5         2004.0      The Rise and Fall of ECW"
      ]
     },
     "execution_count": 42,
     "metadata": {},
     "output_type": "execute_result"
    }
   ],
   "source": [
    "import numpy as np\n",
    "import pandas as pd\n",
    "import sklearn\n",
    "import matplotlib.pyplot as plt\n",
    "import seaborn as sns\n",
    "%matplotlib inline\n",
    "\n",
    "# Load data\n",
    "ratings_column = [\"MovieID\",\"UserID\",\"Rating\"]\n",
    "movie_ratings = pd.read_csv(\"netflix/ratings.txt\",delimiter=\",\",names=ratings_column)\n",
    "#movie_ratings.head()\n",
    "#movie_ratings.shape\n",
    "movie_column = [\"MovieID\",\"YearofRelease\",\"Title\"]\n",
    "movie_titles = pd.read_csv(\"netflix/movie_titles.txt\",delimiter=\",\", encoding=\"ISO-8859-1\",names=movie_column)\n",
    "#movie_titles.head()\n",
    "#movie_titles.shape"
   ]
  },
  {
   "cell_type": "code",
   "execution_count": 43,
   "metadata": {},
   "outputs": [],
   "source": [
    "# Merge both movie ratings and movie title data\n",
    "movie_data = pd.merge(movie_ratings,movie_titles,on=\"MovieID\")"
   ]
  },
  {
   "cell_type": "code",
   "execution_count": 44,
   "metadata": {},
   "outputs": [
    {
     "data": {
      "text/plain": [
       "Title\n",
       "The Twilight Zone: Vol. 36                        4.179767\n",
       "Farscape: The Peacekeeper Wars: Bonus Material    4.047619\n",
       "Animal Crackers                                   4.012064\n",
       "The Cowboys                                       3.838180\n",
       "Door to Door                                      3.825653\n",
       "Name: Rating, dtype: float64"
      ]
     },
     "execution_count": 44,
     "metadata": {},
     "output_type": "execute_result"
    }
   ],
   "source": [
    "movie_data.groupby(\"Title\")[\"Rating\"].mean().sort_values(ascending=False).head()"
   ]
  },
  {
   "cell_type": "code",
   "execution_count": 45,
   "metadata": {},
   "outputs": [
    {
     "data": {
      "text/plain": [
       "Title\n",
       "Sweet Home Alabama    20873\n",
       "Beverly Hills Cop     20140\n",
       "Tomb Raider           19935\n",
       "Gremlins              19580\n",
       "13 Going on 30        16542\n",
       "Name: Rating, dtype: int64"
      ]
     },
     "execution_count": 45,
     "metadata": {},
     "output_type": "execute_result"
    }
   ],
   "source": [
    "# found the total number of ratings for a particular movie\n",
    "movie_data.groupby(\"Title\")[\"Rating\"].count().sort_values(ascending=False).head()"
   ]
  },
  {
   "cell_type": "code",
   "execution_count": 46,
   "metadata": {},
   "outputs": [
    {
     "data": {
      "text/html": [
       "<div>\n",
       "<style scoped>\n",
       "    .dataframe tbody tr th:only-of-type {\n",
       "        vertical-align: middle;\n",
       "    }\n",
       "\n",
       "    .dataframe tbody tr th {\n",
       "        vertical-align: top;\n",
       "    }\n",
       "\n",
       "    .dataframe thead th {\n",
       "        text-align: right;\n",
       "    }\n",
       "</style>\n",
       "<table border=\"1\" class=\"dataframe\">\n",
       "  <thead>\n",
       "    <tr style=\"text-align: right;\">\n",
       "      <th></th>\n",
       "      <th>Rating</th>\n",
       "      <th>mean_rating_counts</th>\n",
       "    </tr>\n",
       "    <tr>\n",
       "      <th>Title</th>\n",
       "      <th></th>\n",
       "      <th></th>\n",
       "    </tr>\n",
       "  </thead>\n",
       "  <tbody>\n",
       "    <tr>\n",
       "      <th>13 Going on 30</th>\n",
       "      <td>3.502116</td>\n",
       "      <td>16542</td>\n",
       "    </tr>\n",
       "    <tr>\n",
       "      <th>2002 Olympic Figure Skating Exhibition</th>\n",
       "      <td>2.000000</td>\n",
       "      <td>31</td>\n",
       "    </tr>\n",
       "    <tr>\n",
       "      <th>4 Little Girls</th>\n",
       "      <td>3.704545</td>\n",
       "      <td>968</td>\n",
       "    </tr>\n",
       "    <tr>\n",
       "      <th>A Touch of Frost: Season 5</th>\n",
       "      <td>3.764706</td>\n",
       "      <td>102</td>\n",
       "    </tr>\n",
       "    <tr>\n",
       "      <th>ABC News Presents: Jesus</th>\n",
       "      <td>2.652174</td>\n",
       "      <td>46</td>\n",
       "    </tr>\n",
       "  </tbody>\n",
       "</table>\n",
       "</div>"
      ],
      "text/plain": [
       "                                          Rating  mean_rating_counts\n",
       "Title                                                               \n",
       "13 Going on 30                          3.502116               16542\n",
       "2002 Olympic Figure Skating Exhibition  2.000000                  31\n",
       "4 Little Girls                          3.704545                 968\n",
       "A Touch of Frost: Season 5              3.764706                 102\n",
       "ABC News Presents: Jesus                2.652174                  46"
      ]
     },
     "execution_count": 46,
     "metadata": {},
     "output_type": "execute_result"
    }
   ],
   "source": [
    "# test basis\n",
    "mean_rating_count = pd.DataFrame(movie_data.groupby(\"Title\")[\"Rating\"].mean())\n",
    "mean_rating_count[\"mean_rating_counts\"] = pd.DataFrame(movie_data.groupby(\"Title\")[\"Rating\"].count())\n",
    "mean_rating_count.head()"
   ]
  },
  {
   "cell_type": "code",
   "execution_count": 47,
   "metadata": {},
   "outputs": [
    {
     "data": {
      "text/plain": [
       "<AxesSubplot:>"
      ]
     },
     "execution_count": 47,
     "metadata": {},
     "output_type": "execute_result"
    },
    {
     "data": {
      "image/png": "[encoded data removed]",
      "text/plain": [
       "<Figure size 576x432 with 1 Axes>"
      ]
     },
     "metadata": {},
     "output_type": "display_data"
    }
   ],
   "source": [
    "# plot a histogram of average rating count\n",
    "sns.set_style('dark')\n",
    "plt.figure(figsize=(8,6))\n",
    "plt.rcParams['patch.force_edgecolor'] = True\n",
    "mean_rating_count['mean_rating_counts'].hist(bins=50)"
   ]
  },
  {
   "cell_type": "code",
   "execution_count": null,
   "metadata": {},
   "outputs": [],
   "source": []
  }
 ],
 "metadata": {
  "kernelspec": {
   "display_name": "Python 3",
   "language": "python",
   "name": "python3"
  },
  "language_info": {
   "codemirror_mode": {
    "name": "ipython",
    "version": 3
   },
   "file_extension": ".py",
   "mimetype": "text/x-python",
   "name": "python",
   "nbconvert_exporter": "python",
   "pygments_lexer": "ipython3",
   "version": "3.8.5"
  }
 },
 "nbformat": 4,
 "nbformat_minor": 4
}
