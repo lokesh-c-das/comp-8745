{
 "cells": [
  {
   "cell_type": "code",
   "execution_count": null,
   "metadata": {},
   "outputs": [],
   "source": [
    "import numpy as np\n",
    "import pandas as pd\n",
    "import sklearn\n",
    "\n",
    "from scipy.sparse import csr_matrix\n",
    "import matplotlib.pyplot as plt\n",
    "import seaborn as sns\n",
    "from sklearn.neighbors import NearestNeighbors\n",
    "%matplotlib inline\n",
    "\n",
    "# for getting index of movie by movie name\n",
    "from fuzzywuzzy import process\n",
    "\n",
    "# Load data\n",
    "ratings_column = [\"MovieID\",\"UserID\",\"Rating\"]\n",
    "movie_ratings = pd.read_csv(\"netflix/ratings.txt\",delimiter=\",\",names=ratings_column,dtype={\"MovieID\":\"int32\",\"UserID\":\"int32\",\"Rating\":\"float32\"})\n",
    "movie_ratings.head()\n",
    "#movie_ratings.shape\n",
    "#movie_column = [\"MovieID\",\"YearofRelease\",\"Title\"]\n",
    "#movie_titles = pd.read_csv(\"netflix/movie_titles.txt\",delimiter=\",\", encoding=\"ISO-8859-1\",names=movie_column)\n",
    "#movie_titles.head(13671)\n",
    "#movie_titles.shape"
   ]
  },
  {
   "cell_type": "code",
   "execution_count": null,
   "metadata": {},
   "outputs": [],
   "source": [
    "# create sparse matrix\n",
    "#  users\n",
    "#         [2 3 4]\n",
    "# Movies  [4 5 6]\n",
    "#         [5 6 7]\n",
    "movies_users = movie_ratings.pivot(index=\"MovieID\",columns=\"UserID\", values=\"Rating\").fillna(0)\n",
    "movies_users = csr_matrix(movies_users.values)\n",
    "print(movies_users)"
   ]
  },
  {
   "cell_type": "code",
   "execution_count": null,
   "metadata": {},
   "outputs": [],
   "source": [
    "model_knn = NearestNeighbors(metric=\"cosine\",algorithm=\"brute\",n_neighbors=10)\n",
    "model_knn.fit(movies_users)\n",
    "\n",
    "def recommender(movie_name, data, model,n_recommendation):\n",
    "    print(data.shape)\n",
    "    model.fit(data);\n",
    "    index = process.extractOne(movie_name,movie_titles[\"Title\"])\n",
    "    print(index)\n",
    "    print(\"You have selected : \", movie_titles[\"Title\"][index])\n",
    "    print(\"Searching for recommendation....\")\n",
    "    ## now apply k-nearrest neighbors\n",
    "    distances, indices = model.kneighbors(data[index])\n",
    "    print(distances, indices)\n",
    "recommender(\"toy story\", movies_users,model_knn,5)"
   ]
  },
  {
   "cell_type": "code",
   "execution_count": null,
   "metadata": {},
   "outputs": [],
   "source": [
    "# Merge both movie ratings and movie title data\n",
    "movie_data = pd.merge(movie_ratings,movie_titles,on=\"MovieID\")"
   ]
  },
  {
   "cell_type": "code",
   "execution_count": null,
   "metadata": {},
   "outputs": [],
   "source": [
    "movie_data.groupby(\"Title\")[\"Rating\"].mean().sort_values(ascending=False).head()"
   ]
  },
  {
   "cell_type": "code",
   "execution_count": null,
   "metadata": {},
   "outputs": [],
   "source": [
    "# found the total number of ratings for a particular movie\n",
    "movie_data.groupby(\"Title\")[\"Rating\"].count().sort_values(ascending=False).head()"
   ]
  },
  {
   "cell_type": "code",
   "execution_count": null,
   "metadata": {},
   "outputs": [],
   "source": [
    "# test basis\n",
    "mean_rating_count = pd.DataFrame(movie_data.groupby(\"Title\")[\"Rating\"].mean())\n",
    "mean_rating_count[\"mean_rating_counts\"] = pd.DataFrame(movie_data.groupby(\"Title\")[\"Rating\"].count())\n",
    "mean_rating_count.head()"
   ]
  },
  {
   "cell_type": "code",
   "execution_count": null,
   "metadata": {},
   "outputs": [],
   "source": [
    "# plot a histogram of average rating count\n",
    "sns.set_style('dark')\n",
    "plt.figure(figsize=(8,6))\n",
    "plt.rcParams['patch.force_edgecolor'] = True\n",
    "mean_rating_count['mean_rating_counts'].hist(bins=50)"
   ]
  },
  {
   "cell_type": "code",
   "execution_count": null,
   "metadata": {},
   "outputs": [],
   "source": []
  }
 ],
 "metadata": {
  "kernelspec": {
   "display_name": "Python 3",
   "language": "python",
   "name": "python3"
  },
  "language_info": {
   "codemirror_mode": {
    "name": "ipython",
    "version": 3
   },
   "file_extension": ".py",
   "mimetype": "text/x-python",
   "name": "python",
   "nbconvert_exporter": "python",
   "pygments_lexer": "ipython3",
   "version": "3.8.5"
  }
 },
 "nbformat": 4,
 "nbformat_minor": 4
}
