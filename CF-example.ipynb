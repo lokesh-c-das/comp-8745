{
 "cells": [
  {
   "cell_type": "code",
   "execution_count": 51,
   "metadata": {},
   "outputs": [
    {
     "name": "stdout",
     "output_type": "stream",
     "text": [
      "[ 1.76632291  3.42210764  4.07789236  3.73367709]\n",
      "[ 3.63849829  1.63849829  0.08450514  0.63849829]\n",
      "[ 1.26983823  2.97278781  4.37868698  3.37868698]\n"
     ]
    }
   ],
   "source": [
    "import numpy as np\n",
    "\n",
    "#USER-USER Collaborative filtering example\n",
    "\n",
    "M = [[1,3,5,4],[2,1,1,2],[1,3,4,4]]\n",
    "N = np.array(M)\n",
    "#correlations\n",
    "C = np.corrcoef(N)\n",
    "#averages\n",
    "avgs = N.mean(axis=1)\n",
    "#predictions for user 0 using users 1,2\n",
    "i=0\n",
    "j=1\n",
    "k=2\n",
    "print(avgs[i]+((N[j,:]-avgs[j])*C[i,j]+(N[k,:]-avgs[k])*C[i,k])/(abs(C[i,j])+abs(C[i,k])))\n",
    "#predictions for user 1 using users 0,2\n",
    "i=1\n",
    "j=0\n",
    "k=2\n",
    "print(avgs[i]+((N[j,:]-avgs[j])*C[i,j]+(N[k,:]-avgs[k])*C[i,k])/(abs(C[i,j])+abs(C[i,k])))\n",
    "\n",
    "#predictions for user 2 using users 0,1\n",
    "i=2\n",
    "j=0\n",
    "k=1\n",
    "print(avgs[i]+((N[j,:]-avgs[j])*C[i,j]+(N[k,:]-avgs[k])*C[i,k])/(abs(C[i,j])+abs(C[i,k])))\n",
    "\n",
    "\n"
   ]
  },
  {
   "cell_type": "code",
   "execution_count": 23,
   "metadata": {},
   "outputs": [
    {
     "data": {
      "text/plain": [
       "array([ 3.25,  1.5 ,  3.  ])"
      ]
     },
     "execution_count": 23,
     "metadata": {},
     "output_type": "execute_result"
    }
   ],
   "source": [
    "avgs"
   ]
  },
  {
   "cell_type": "code",
   "execution_count": 2,
   "metadata": {},
   "outputs": [
    {
     "name": "stdout",
     "output_type": "stream",
     "text": [
      "[[1 3 5 4]\n",
      " [2 1 1 2]\n",
      " [1 3 4 4]]\n",
      "[-3.99014562 -1.33661813 -3.66338187]\n",
      "[2.64367311 0.32676375 2.31690937]\n",
      "[2.         0.33333333 2.        ]\n",
      "[ 2.30705499 -0.00985438  1.98029124]\n"
     ]
    }
   ],
   "source": [
    "import numpy as np\n",
    "#ITEM-ITEM Collaborative filtering example\n",
    "\n",
    "M = [[1,3,5,4],[2,1,1,2],[1,3,4,4]]\n",
    "N = np.array(M)\n",
    "#Item correlations\n",
    "I = np.transpose(N)\n",
    "C = np.corrcoef(I)\n",
    "\n",
    "#Predictions for item-0 using items 1,2,3\n",
    "i=0\n",
    "j=1\n",
    "k=2\n",
    "m=3\n",
    "print((C[i,j]*I[j,:]+C[i,k]*I[k,:]+C[i,m]*I[m,:])/(abs(C[i,j])+abs(C[i,k])+abs(C[i,m])))\n",
    "\n",
    "#Predictions for item-1 using items 0,2,3\n",
    "i=1\n",
    "j=0\n",
    "k=2\n",
    "m=3\n",
    "print((C[i,j]*I[j,:]+C[i,k]*I[k,:]+C[i,m]*I[m,:])/(abs(C[i,j])+abs(C[i,k])+abs(C[i,m])))\n",
    "\n",
    "#Predictions for item-2 using items 0,1,3\n",
    "i=2\n",
    "j=0\n",
    "k=1\n",
    "m=3\n",
    "print((C[i,j]*I[j,:]+C[i,k]*I[k,:]+C[i,m]*I[m,:])/(abs(C[i,j])+abs(C[i,k])+abs(C[i,m])))\n",
    "\n",
    "#Predictions for item-3 using items 0,1,2\n",
    "i=3\n",
    "j=0\n",
    "k=1\n",
    "m=2\n",
    "print((C[i,j]*I[j,:]+C[i,k]*I[k,:]+C[i,m]*I[m,:])/(abs(C[i,j])+abs(C[i,k])+abs(C[i,m])))\n",
    "\n",
    "\n"
   ]
  },
  {
   "cell_type": "code",
   "execution_count": null,
   "metadata": {},
   "outputs": [],
   "source": []
  }
 ],
 "metadata": {
  "anaconda-cloud": {},
  "kernelspec": {
   "display_name": "Python 3",
   "language": "python",
   "name": "python3"
  },
  "language_info": {
   "codemirror_mode": {
    "name": "ipython",
    "version": 3
   },
   "file_extension": ".py",
   "mimetype": "text/x-python",
   "name": "python",
   "nbconvert_exporter": "python",
   "pygments_lexer": "ipython3",
   "version": "3.8.5"
  }
 },
 "nbformat": 4,
 "nbformat_minor": 1
}
