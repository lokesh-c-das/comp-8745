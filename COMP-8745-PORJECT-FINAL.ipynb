{
 "cells": [
  {
   "cell_type": "code",
   "execution_count": 73,
   "metadata": {},
   "outputs": [],
   "source": [
    "# import libraries\n",
    "\n",
    "import numpy as np\n",
    "import pandas as pd\n",
    "import matplotlib.pyplot as plt\n",
    "import sklearn.metrics as metrics\n",
    "\n",
    "from sklearn.neighbors import NearestNeighbors\n",
    "from scipy.spatial.distance import correlation\n",
    "from sklearn.metrics.pairwise import pairwise_distances\n",
    "\n",
    "\n",
    "\n",
    "# Load dataset\n",
    "columns = ['movieID','userID','Ratings']\n",
    "users_movies = pd.read_csv('exampledataset/data.txt', delimiter=',', names=columns)\n",
    "users_movies.head()\n",
    "\n",
    "\n",
    "# generate matrix\n",
    "\n",
    "rating_matrix = users_movies.pivot(index='userID', columns='movieID',values='Ratings')\n",
    "\n",
    "rating_matrix.fillna(0, inplace=True)\n",
    "\n",
    "rating_matrix.head(35)\n",
    "# item-based recommendation system\n",
    "\n",
    "M = np.asarray([[3,7,4,9,9,7], \n",
    "                [7,0,5,3,8,8],\n",
    "               [7,5,5,0,8,4],\n",
    "               [5,6,8,5,9,8],\n",
    "               [5,8,8,8,10,9],\n",
    "               [7,7,0,4,7,8]])\n",
    "M=pd.DataFrame(M)"
   ]
  },
  {
   "cell_type": "code",
   "execution_count": 77,
   "metadata": {},
   "outputs": [],
   "source": [
    "def findSimilarItemsForAnItem(item_id, dataset,n_neighbors):\n",
    "    similarities = []\n",
    "    indices = []\n",
    "    dataset = dataset.T\n",
    "    \n",
    "    knn_model = NearestNeighbors(metric='cosine',algorithm='brute')\n",
    "    knn_model.fit(dataset)\n",
    "    distances, indices = knn_model.kneighbors(dataset.iloc[item_id-1,:].values.reshape(1,-1), n_neighbors=n_neighbors+1)\n",
    "    similarities = 1-distances.flatten();\n",
    "    return similarities, indices\n"
   ]
  },
  {
   "cell_type": "code",
   "execution_count": 78,
   "metadata": {},
   "outputs": [
    {
     "name": "stdout",
     "output_type": "stream",
     "text": [
      "\n",
      "Predicting Rating of User 1 for item 3: 1.470424566185883\n"
     ]
    }
   ],
   "source": [
    "def predictItemsToUser(user_id, item_id, dataset, n_neighbors):\n",
    "    prediction = 0\n",
    "    weighted_sum = 0\n",
    "    similarities, indices = findSimilarItemsForAnItem(item_id,dataset,4)\n",
    "    sum_weight = np.sum(similarities)-1\n",
    "    \n",
    "    product = 1\n",
    "    \n",
    "    for i in range(0, len(indices.flatten())):\n",
    "        if (i!=item_id+1):\n",
    "            \n",
    "            product = dataset.iloc[user_id, indices.flatten()[i]]*similarities[i]\n",
    "            weighted_sum = weighted_sum + product\n",
    "        prediction = weighted_sum/sum_weight\n",
    "    \n",
    "        #prediction = 0 if prediction <=0 else prediction\n",
    "        #prediction = 5 if prediction > 5 else prediction\n",
    "        print('\\nPredicting Rating of User {0} for item {1}: {2}'.format(user_id, item_id, prediction))\n",
    "        return prediction\n",
    "\n",
    "prediction = predictItemsToUser(1,3,M,4)"
   ]
  },
  {
   "cell_type": "code",
   "execution_count": null,
   "metadata": {},
   "outputs": [],
   "source": []
  }
 ],
 "metadata": {
  "kernelspec": {
   "display_name": "Python 3",
   "language": "python",
   "name": "python3"
  },
  "language_info": {
   "codemirror_mode": {
    "name": "ipython",
    "version": 3
   },
   "file_extension": ".py",
   "mimetype": "text/x-python",
   "name": "python",
   "nbconvert_exporter": "python",
   "pygments_lexer": "ipython3",
   "version": "3.8.5"
  }
 },
 "nbformat": 4,
 "nbformat_minor": 4
}
