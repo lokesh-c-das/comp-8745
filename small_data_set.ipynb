{
 "cells": [
  {
   "cell_type": "code",
   "execution_count": 22,
   "metadata": {},
   "outputs": [
    {
     "name": "stdout",
     "output_type": "stream",
     "text": [
      "2     NaN\n",
      "1     1.0\n",
      "3     1.0\n",
      "7     2.0\n",
      "6     2.0\n",
      "18    3.0\n",
      "16    3.0\n",
      "4     1.0\n",
      "22    4.0\n",
      "15    3.0\n",
      "29    5.0\n",
      "5     2.0\n",
      "21    4.0\n",
      "17    3.0\n",
      "10    2.0\n",
      "34    6.0\n",
      "14    3.0\n",
      "0     1.0\n",
      "8     2.0\n",
      "26    5.0\n",
      "23    4.0\n",
      "28    5.0\n",
      "20    4.0\n",
      "9     2.0\n",
      "12    3.0\n",
      "27    5.0\n",
      "13    3.0\n",
      "33    6.0\n",
      "25    5.0\n",
      "32    6.0\n",
      "24    5.0\n",
      "19    4.0\n",
      "31    6.0\n",
      "11    3.0\n",
      "30    6.0\n",
      "Name: movieID, dtype: float64\n"
     ]
    }
   ],
   "source": [
    "## Libraries import\n",
    "import numpy as np\n",
    "import pandas as pd\n",
    "import sklearn\n",
    "\n",
    "from scipy.sparse import csr_matrix\n",
    "import matplotlib.pyplot as plt\n",
    "import seaborn as sns\n",
    "from sklearn.neighbors import NearestNeighbors\n",
    "%matplotlib inline\n",
    "\n",
    "# for getting index of movie by movie name\n",
    "from fuzzywuzzy import process\n",
    "\n",
    "\n",
    "#load data\n",
    "columns = ['movieID','userID','Rating']\n",
    "movies_users = pd.read_csv('exampledataset/data.txt', delimiter=',',names=columns)\n",
    "mat_movies_users = csr_matrix(movies_users.values)\n",
    "\n",
    "\n",
    "## Run nearest neighbors algorithms\n",
    "knn_model = NearestNeighbors(metric=\"cosine\",algorithm=\"brute\",n_neighbors=35)\n",
    "knn_model.fit(mat_movies_users)\n",
    "\n",
    "\n",
    "def recommender(movieID, data, model, n_recommendations):\n",
    "    distances, indices = model.kneighbors(data[2],  n_neighbors=n_recommendations);\n",
    "    \n",
    "    for i in indices:\n",
    "        print(movies_users['movieID'][i].where(i!=2))\n",
    "recommender('1',mat_movies_users,knn_model, 35)"
   ]
  },
  {
   "cell_type": "code",
   "execution_count": null,
   "metadata": {},
   "outputs": [],
   "source": []
  }
 ],
 "metadata": {
  "kernelspec": {
   "display_name": "Python 3",
   "language": "python",
   "name": "python3"
  },
  "language_info": {
   "codemirror_mode": {
    "name": "ipython",
    "version": 3
   },
   "file_extension": ".py",
   "mimetype": "text/x-python",
   "name": "python",
   "nbconvert_exporter": "python",
   "pygments_lexer": "ipython3",
   "version": "3.8.5"
  }
 },
 "nbformat": 4,
 "nbformat_minor": 4
}
