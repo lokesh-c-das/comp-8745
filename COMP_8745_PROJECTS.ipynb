{
 "cells": [
  {
   "cell_type": "code",
   "execution_count": 27,
   "metadata": {},
   "outputs": [
    {
     "data": {
      "text/plain": [
       "(17768, 3)"
      ]
     },
     "execution_count": 27,
     "metadata": {},
     "output_type": "execute_result"
    }
   ],
   "source": [
    "import numpy as np\n",
    "import pandas as pd\n",
    "import sklearn\n",
    "\n",
    "\n",
    "# Load data\n",
    "ratings_column = [\"MovieID\",\"UserID\",\"Rating\"]\n",
    "movie_ratings = pd.read_csv(\"netflix/ratings.txt\",delimiter=\",\",names=ratings_column)\n",
    "movie_ratings.head()\n",
    "movie_ratings.shape\n",
    "movie_column = [\"MovieID\",\"YearofRelease\",\"Title\"]\n",
    "movie_titles = pd.read_csv(\"netflix/movie_titles.txt\",delimiter=\",\", encoding=\"ISO-8859-1\",names=movie_column)\n",
    "movie_titles.head()\n",
    "movie_titles.shape"
   ]
  },
  {
   "cell_type": "code",
   "execution_count": 22,
   "metadata": {},
   "outputs": [
    {
     "data": {
      "text/html": [
       "<div>\n",
       "<style scoped>\n",
       "    .dataframe tbody tr th:only-of-type {\n",
       "        vertical-align: middle;\n",
       "    }\n",
       "\n",
       "    .dataframe tbody tr th {\n",
       "        vertical-align: top;\n",
       "    }\n",
       "\n",
       "    .dataframe thead th {\n",
       "        text-align: right;\n",
       "    }\n",
       "</style>\n",
       "<table border=\"1\" class=\"dataframe\">\n",
       "  <thead>\n",
       "    <tr style=\"text-align: right;\">\n",
       "      <th></th>\n",
       "      <th>MovieID</th>\n",
       "      <th>UserID</th>\n",
       "      <th>Rating</th>\n",
       "      <th>YearofRelease</th>\n",
       "      <th>Title</th>\n",
       "    </tr>\n",
       "  </thead>\n",
       "  <tbody>\n",
       "    <tr>\n",
       "      <th>0</th>\n",
       "      <td>28</td>\n",
       "      <td>1392773</td>\n",
       "      <td>4.0</td>\n",
       "      <td>2002.0</td>\n",
       "      <td>Lilo and Stitch</td>\n",
       "    </tr>\n",
       "    <tr>\n",
       "      <th>1</th>\n",
       "      <td>28</td>\n",
       "      <td>1990901</td>\n",
       "      <td>5.0</td>\n",
       "      <td>2002.0</td>\n",
       "      <td>Lilo and Stitch</td>\n",
       "    </tr>\n",
       "    <tr>\n",
       "      <th>2</th>\n",
       "      <td>28</td>\n",
       "      <td>765331</td>\n",
       "      <td>3.0</td>\n",
       "      <td>2002.0</td>\n",
       "      <td>Lilo and Stitch</td>\n",
       "    </tr>\n",
       "    <tr>\n",
       "      <th>3</th>\n",
       "      <td>28</td>\n",
       "      <td>1987434</td>\n",
       "      <td>4.0</td>\n",
       "      <td>2002.0</td>\n",
       "      <td>Lilo and Stitch</td>\n",
       "    </tr>\n",
       "    <tr>\n",
       "      <th>4</th>\n",
       "      <td>28</td>\n",
       "      <td>2193455</td>\n",
       "      <td>4.0</td>\n",
       "      <td>2002.0</td>\n",
       "      <td>Lilo and Stitch</td>\n",
       "    </tr>\n",
       "    <tr>\n",
       "      <th>...</th>\n",
       "      <td>...</td>\n",
       "      <td>...</td>\n",
       "      <td>...</td>\n",
       "      <td>...</td>\n",
       "      <td>...</td>\n",
       "    </tr>\n",
       "    <tr>\n",
       "      <th>995</th>\n",
       "      <td>28</td>\n",
       "      <td>2119151</td>\n",
       "      <td>5.0</td>\n",
       "      <td>2002.0</td>\n",
       "      <td>Lilo and Stitch</td>\n",
       "    </tr>\n",
       "    <tr>\n",
       "      <th>996</th>\n",
       "      <td>28</td>\n",
       "      <td>1049975</td>\n",
       "      <td>4.0</td>\n",
       "      <td>2002.0</td>\n",
       "      <td>Lilo and Stitch</td>\n",
       "    </tr>\n",
       "    <tr>\n",
       "      <th>997</th>\n",
       "      <td>28</td>\n",
       "      <td>153102</td>\n",
       "      <td>3.0</td>\n",
       "      <td>2002.0</td>\n",
       "      <td>Lilo and Stitch</td>\n",
       "    </tr>\n",
       "    <tr>\n",
       "      <th>998</th>\n",
       "      <td>28</td>\n",
       "      <td>1083968</td>\n",
       "      <td>3.0</td>\n",
       "      <td>2002.0</td>\n",
       "      <td>Lilo and Stitch</td>\n",
       "    </tr>\n",
       "    <tr>\n",
       "      <th>999</th>\n",
       "      <td>28</td>\n",
       "      <td>319226</td>\n",
       "      <td>3.0</td>\n",
       "      <td>2002.0</td>\n",
       "      <td>Lilo and Stitch</td>\n",
       "    </tr>\n",
       "  </tbody>\n",
       "</table>\n",
       "<p>1000 rows × 5 columns</p>\n",
       "</div>"
      ],
      "text/plain": [
       "     MovieID   UserID  Rating  YearofRelease            Title\n",
       "0         28  1392773     4.0         2002.0  Lilo and Stitch\n",
       "1         28  1990901     5.0         2002.0  Lilo and Stitch\n",
       "2         28   765331     3.0         2002.0  Lilo and Stitch\n",
       "3         28  1987434     4.0         2002.0  Lilo and Stitch\n",
       "4         28  2193455     4.0         2002.0  Lilo and Stitch\n",
       "..       ...      ...     ...            ...              ...\n",
       "995       28  2119151     5.0         2002.0  Lilo and Stitch\n",
       "996       28  1049975     4.0         2002.0  Lilo and Stitch\n",
       "997       28   153102     3.0         2002.0  Lilo and Stitch\n",
       "998       28  1083968     3.0         2002.0  Lilo and Stitch\n",
       "999       28   319226     3.0         2002.0  Lilo and Stitch\n",
       "\n",
       "[1000 rows x 5 columns]"
      ]
     },
     "execution_count": 22,
     "metadata": {},
     "output_type": "execute_result"
    }
   ],
   "source": [
    "# Merge both movie ratings and movie title data\n",
    "movie_data = pd.merge(movie_ratings,movie_titles,on=\"MovieID\")\n",
    "movie_data.head(1000)"
   ]
  },
  {
   "cell_type": "code",
   "execution_count": 20,
   "metadata": {},
   "outputs": [
    {
     "data": {
      "text/plain": [
       "Title\n",
       "The Twilight Zone: Vol. 36                        4.179767\n",
       "Farscape: The Peacekeeper Wars: Bonus Material    4.047619\n",
       "Animal Crackers                                   4.012064\n",
       "The Cowboys                                       3.838180\n",
       "Door to Door                                      3.825653\n",
       "Name: Rating, dtype: float64"
      ]
     },
     "execution_count": 20,
     "metadata": {},
     "output_type": "execute_result"
    }
   ],
   "source": [
    "movie_data.groupby(\"Title\")[\"Rating\"].mean().sort_values(ascending=False).head()"
   ]
  },
  {
   "cell_type": "code",
   "execution_count": 32,
   "metadata": {},
   "outputs": [
    {
     "data": {
      "text/plain": [
       "Title\n",
       "Sweet Home Alabama    20873\n",
       "Beverly Hills Cop     20140\n",
       "Tomb Raider           19935\n",
       "Gremlins              19580\n",
       "13 Going on 30        16542\n",
       "Name: Rating, dtype: int64"
      ]
     },
     "execution_count": 32,
     "metadata": {},
     "output_type": "execute_result"
    }
   ],
   "source": [
    "# found the total number of ratings for a particular movie\n",
    "movie_data.groupby(\"Title\")[\"Rating\"].count().sort_values(ascending=False).head()"
   ]
  },
  {
   "cell_type": "code",
   "execution_count": null,
   "metadata": {},
   "outputs": [],
   "source": [
    "# test basis\n",
    "mean_rating_count = pd.DataFrame(movie_data.groupby(\"Title\")[\"Rating\"].mean())\n",
    "mean_rating_count[\"mean_rating_counts\"] = pd.DataFrame(movie_data.groupby(\"Title\")[\"Rating\"].count())"
   ]
  }
 ],
 "metadata": {
  "kernelspec": {
   "display_name": "Python 3",
   "language": "python",
   "name": "python3"
  },
  "language_info": {
   "codemirror_mode": {
    "name": "ipython",
    "version": 3
   },
   "file_extension": ".py",
   "mimetype": "text/x-python",
   "name": "python",
   "nbconvert_exporter": "python",
   "pygments_lexer": "ipython3",
   "version": "3.8.5"
  }
 },
 "nbformat": 4,
 "nbformat_minor": 4
}
